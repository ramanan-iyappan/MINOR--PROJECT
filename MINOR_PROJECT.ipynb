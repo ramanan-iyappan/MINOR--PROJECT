{
  "nbformat": 4,
  "nbformat_minor": 0,
  "metadata": {
    "colab": {
      "name": "MINOR - PROJECT.ipynb",
      "provenance": [],
      "mount_file_id": "1ULbqbI050wuJCQVNRx0cZByjpMVGEiBc",
      "authorship_tag": "ABX9TyNOXCdqbrK9WQjHARLiV48t",
      "include_colab_link": true
    },
    "kernelspec": {
      "name": "python3",
      "display_name": "Python 3"
    },
    "language_info": {
      "name": "python"
    }
  },
  "cells": [
    {
      "cell_type": "markdown",
      "metadata": {
        "id": "view-in-github",
        "colab_type": "text"
      },
      "source": [
        "<a href=\"https://colab.research.google.com/github/ramanan-iyappan/MINOR--PROJECT/blob/main/MINOR_PROJECT.ipynb\" target=\"_parent\"><img src=\"https://colab.research.google.com/assets/colab-badge.svg\" alt=\"Open In Colab\"/></a>"
      ]
    },
    {
      "cell_type": "code",
      "metadata": {
        "colab": {
          "base_uri": "https://localhost:8080/"
        },
        "id": "KYbtQRu-JbKu",
        "outputId": "5d9e28b2-6749-4f81-d73f-19f3c026cb42"
      },
      "source": [
        "!pip install bing-image-downloader"
      ],
      "execution_count": 1,
      "outputs": [
        {
          "output_type": "stream",
          "text": [
            "Collecting bing-image-downloader\n",
            "  Downloading https://files.pythonhosted.org/packages/0d/bf/537a61030b84ae4cd5022d5c7b014fd9bc3ce7c02358919153a6658a61d3/bing_image_downloader-1.0.4-py3-none-any.whl\n",
            "Installing collected packages: bing-image-downloader\n",
            "Successfully installed bing-image-downloader-1.0.4\n"
          ],
          "name": "stdout"
        }
      ]
    },
    {
      "cell_type": "code",
      "metadata": {
        "id": "_Z7mhIUHJecP"
      },
      "source": [
        "!mkdir images"
      ],
      "execution_count": 2,
      "outputs": []
    },
    {
      "cell_type": "code",
      "metadata": {
        "colab": {
          "base_uri": "https://localhost:8080/"
        },
        "id": "Ppi9fQ84JgmC",
        "outputId": "83100446-ecfe-408b-a554-c034f7836718"
      },
      "source": [
        "from bing_image_downloader import downloader\n",
        "downloader.download(\"pretty beaches\",limit=30,output_dir='images',adult_filter_off=True)"
      ],
      "execution_count": 3,
      "outputs": [
        {
          "output_type": "stream",
          "text": [
            "\n",
            "\n",
            "[!!]Indexing page: 1\n",
            "\n",
            "[%] Indexed 10 Images on Page 1.\n",
            "\n",
            "===============================================\n",
            "\n",
            "[%] Downloading Image #1 from https://eveningg.cc/wp-content/uploads/2018/07/3997-3.jpg\n",
            "[%] File Downloaded !\n",
            "\n",
            "[%] Downloading Image #2 from https://www.pixelstalk.net/wp-content/uploads/images1/Beach-sunset-wallpapers-free-For-Desktop-Wallpaper.jpg\n",
            "[%] File Downloaded !\n",
            "\n",
            "[%] Downloading Image #3 from https://upload.wikimedia.org/wikipedia/commons/thumb/8/88/Black_Sand_Beach%2C_Maui_(6122971640).jpg/1280px-Black_Sand_Beach%2C_Maui_(6122971640).jpg\n",
            "[%] File Downloaded !\n",
            "\n",
            "[%] Downloading Image #4 from https://www.wallpapers13.com/wp-content/uploads/2017/10/Cancun-Beach-Mexico-a-city-on-the-Yucatan-Peninsula-that-borders-the-Caribbean-Sea-photo-Wallpaper-HD-3840x2400.jpg\n",
            "[%] File Downloaded !\n",
            "\n",
            "[%] Downloading Image #5 from http://thewowstyle.com/wp-content/uploads/2014/11/Golden-Gate-Bridge-San-Francisco-USA-5.jpg\n",
            "[%] File Downloaded !\n",
            "\n",
            "[%] Downloading Image #6 from http://shamrockroseaussies.com/yahoo_site_admin/assets/images/20190122_185901_edited.25185730_std.jpg\n",
            "[%] File Downloaded !\n",
            "\n",
            "[%] Downloading Image #7 from http://shamrockroseaussies.com/yahoo_site_admin/assets/images/DSC_0350.41175938_std.JPG\n",
            "[%] File Downloaded !\n",
            "\n",
            "[%] Downloading Image #8 from http://shamrockroseaussies.com/yahoo_site_admin/assets/images/20190122_191023.25191911_std.jpg\n",
            "[%] File Downloaded !\n",
            "\n",
            "[%] Downloading Image #9 from http://shamrockroseaussies.com/yahoo_site_admin/assets/images/DSC_0246.41175523_std.JPG\n",
            "[%] File Downloaded !\n",
            "\n",
            "[%] Downloading Image #10 from http://shamrockroseaussies.com/yahoo_site_admin/assets/images/DSC_0245.41175408_std.JPG\n",
            "[%] File Downloaded !\n",
            "\n",
            "\n",
            "\n",
            "[!!]Indexing page: 2\n",
            "\n",
            "[%] Indexed 10 Images on Page 2.\n",
            "\n",
            "===============================================\n",
            "\n",
            "[%] Downloading Image #11 from http://www.wallpapers13.com/wp-content/uploads/2016/01/Beautiful-summer-beach-wallpaper-45-1024x768.jpg\n",
            "[%] File Downloaded !\n",
            "\n",
            "[%] Downloading Image #12 from https://www.wallpapers13.com/wp-content/uploads/2018/09/Sunset-Ocean-sandy-beach-rocks-green-movi-water-nature-4K-Wallpaper-for-Desktop-mobile-phones-and-computer-3840x2160.jpg\n",
            "[%] File Downloaded !\n",
            "\n",
            "[%] Downloading Image #13 from https://img.izismile.com/img/img4/20110721/640/amazingly_beautiful_islands_of_seychelles_640_21.jpg\n",
            "[%] File Downloaded !\n",
            "\n",
            "[%] Downloading Image #14 from https://weneedfun.com/wp-content/uploads/2016/08/Beautiful-Ocean-Sunrise-Sunset-Photos-16.jpg\n",
            "[%] File Downloaded !\n",
            "\n",
            "[%] Downloading Image #15 from https://www.wallpapers13.com/wp-content/uploads/2019/08/Indonesia-Banyak-Islands-Sumatra-tropical-desert-beach-Sunset-sky-sea-palm-trees-photo-landscape-4K-Ultra-HD-Wallpaper-for-Desktop-Laptop.jpg\n",
            "[%] File Downloaded !\n",
            "\n",
            "[%] Downloading Image #16 from https://wallpapershome.com/images/wallpapers/flamenco-beach-2560x1440-culebra-puerto-rico-palms-best-beaches-of-8824.jpg\n",
            "[%] File Downloaded !\n",
            "\n",
            "[%] Downloading Image #17 from https://themysteriousworld.com/wp-content/uploads/2017/05/maldives.jpg\n",
            "[%] File Downloaded !\n",
            "\n",
            "[%] Downloading Image #18 from https://i.pinimg.com/736x/12/59/00/125900625014de8c5e6a6e4a000bd384--ocean-sunset-purple-sunset.jpg\n",
            "[%] File Downloaded !\n",
            "\n",
            "[%] Downloading Image #19 from https://1.bp.blogspot.com/-p9xmSJmwijQ/VugX2gks1hI/AAAAAAAATAs/-JeAPmIGx88PwYUC-AwvbCW8LX56eY1GA/s1600/most-beautiful-Hollywood-actresses.jpg\n",
            "[%] File Downloaded !\n",
            "\n",
            "[%] Downloading Image #20 from https://wallpapershome.com/images/wallpapers/sunset-5120x2880-clouds-5k-19547.jpg\n",
            "[%] File Downloaded !\n",
            "\n",
            "\n",
            "\n",
            "[!!]Indexing page: 3\n",
            "\n",
            "[%] Indexed 9 Images on Page 3.\n",
            "\n",
            "===============================================\n",
            "\n",
            "[%] Downloading Image #21 from https://www.wallpapers13.com/wp-content/uploads/2018/09/Sunset-Ocean-sandy-beach-rocks-green-movi-water-nature-4K-Wallpaper-for-Desktop-mobile-phones-and-computer-3840x2160.jpg\n",
            "[%] File Downloaded !\n",
            "\n",
            "[%] Downloading Image #22 from https://img.izismile.com/img/img4/20110721/640/amazingly_beautiful_islands_of_seychelles_640_21.jpg\n",
            "[%] File Downloaded !\n",
            "\n",
            "[%] Downloading Image #23 from https://weneedfun.com/wp-content/uploads/2016/08/Beautiful-Ocean-Sunrise-Sunset-Photos-16.jpg\n",
            "[%] File Downloaded !\n",
            "\n",
            "[%] Downloading Image #24 from https://www.wallpapers13.com/wp-content/uploads/2019/08/Indonesia-Banyak-Islands-Sumatra-tropical-desert-beach-Sunset-sky-sea-palm-trees-photo-landscape-4K-Ultra-HD-Wallpaper-for-Desktop-Laptop.jpg\n",
            "[%] File Downloaded !\n",
            "\n",
            "[%] Downloading Image #25 from https://wallpapershome.com/images/wallpapers/flamenco-beach-2560x1440-culebra-puerto-rico-palms-best-beaches-of-8824.jpg\n",
            "[%] File Downloaded !\n",
            "\n",
            "[%] Downloading Image #26 from https://themysteriousworld.com/wp-content/uploads/2017/05/maldives.jpg\n",
            "[%] File Downloaded !\n",
            "\n",
            "[%] Downloading Image #27 from https://i.pinimg.com/736x/12/59/00/125900625014de8c5e6a6e4a000bd384--ocean-sunset-purple-sunset.jpg\n",
            "[%] File Downloaded !\n",
            "\n",
            "[%] Downloading Image #28 from https://1.bp.blogspot.com/-p9xmSJmwijQ/VugX2gks1hI/AAAAAAAATAs/-JeAPmIGx88PwYUC-AwvbCW8LX56eY1GA/s1600/most-beautiful-Hollywood-actresses.jpg\n",
            "[%] File Downloaded !\n",
            "\n",
            "[%] Downloading Image #29 from https://wallpapershome.com/images/wallpapers/sunset-5120x2880-clouds-5k-19547.jpg\n",
            "[%] File Downloaded !\n",
            "\n",
            "\n",
            "\n",
            "[!!]Indexing page: 4\n",
            "\n",
            "[%] Indexed 8 Images on Page 4.\n",
            "\n",
            "===============================================\n",
            "\n",
            "[%] Downloading Image #30 from https://upload.wikimedia.org/wikipedia/commons/thumb/8/88/Black_Sand_Beach%2C_Maui_(6122971640).jpg/1280px-Black_Sand_Beach%2C_Maui_(6122971640).jpg\n",
            "[%] File Downloaded !\n",
            "\n",
            "\n",
            "\n",
            "[%] Done. Downloaded 30 images.\n",
            "\n",
            "===============================================\n",
            "\n"
          ],
          "name": "stdout"
        }
      ]
    },
    {
      "cell_type": "code",
      "metadata": {
        "colab": {
          "base_uri": "https://localhost:8080/"
        },
        "id": "J5zAkNb1ZXyq",
        "outputId": "dc98a70d-004b-4fce-80e2-1e4c50ec08fd"
      },
      "source": [
        "from bing_image_downloader import downloader\n",
        "downloader.download(\"pretty roses\",limit=30,output_dir='images',adult_filter_off=True)"
      ],
      "execution_count": 4,
      "outputs": [
        {
          "output_type": "stream",
          "text": [
            "\n",
            "\n",
            "[!!]Indexing page: 1\n",
            "\n",
            "[%] Indexed 10 Images on Page 1.\n",
            "\n",
            "===============================================\n",
            "\n",
            "[%] Downloading Image #1 from http://www.hdwallpapers.in/download/beautiful_pink_rose-1920x1080.jpg\n",
            "[%] File Downloaded !\n",
            "\n",
            "[%] Downloading Image #2 from http://www.wallpapers13.com/wp-content/uploads/2016/04/Wedding-flowers-bouquet-of-red-roses-on-silk-cloth.jpg\n",
            "[%] File Downloaded !\n",
            "\n",
            "[%] Downloading Image #3 from https://www.parfumflowercompany.com/wp-content/uploads/2015/10/Charity-David-Austin-Wedding-Rose-005.png\n",
            "[%] File Downloaded !\n",
            "\n",
            "[%] Downloading Image #4 from https://www.digsdigs.com/photos/2011/10/700-free-last-minute-halloween-pumpkin-carving-templates-and-ideas-11.jpg\n",
            "[%] File Downloaded !\n",
            "\n",
            "[%] Downloading Image #5 from https://weneedfun.com/wp-content/uploads/2016/08/Wedding-Invitation-Background-Designs-27.jpg\n",
            "[%] File Downloaded !\n",
            "\n",
            "[%] Downloading Image #6 from https://i.pinimg.com/736x/24/f0/ab/24f0abad4e024b787e7cbe858d8579c9--pink-flowers-good-morning.jpg\n",
            "[%] File Downloaded !\n",
            "\n",
            "[%] Downloading Image #7 from https://www.parfumflowercompany.com/wp-content/uploads/2015/10/Constance-008.jpg\n",
            "[%] File Downloaded !\n",
            "\n",
            "[%] Downloading Image #8 from https://www.desktopbackground.org/download/720x1280/2012/12/21/502473_beautiful-sunflower-wallpapers-image_2560x1600_h.jpg\n",
            "[%] File Downloaded !\n",
            "\n",
            "[%] Downloading Image #9 from http://www.rosesandrings.com/wp-content/uploads/2018/03/Whimsical-tree-wedding-backdrop-with-bistro-lights.jpg\n",
            "[%] File Downloaded !\n",
            "\n",
            "[%] Downloading Image #10 from https://www.wallpaperu3.com/wp-content/mywallpapers/beautiful-yellow-roses-wallpaper-540x960.jpg\n",
            "[%] File Downloaded !\n",
            "\n",
            "\n",
            "\n",
            "[!!]Indexing page: 2\n",
            "\n",
            "[%] Indexed 10 Images on Page 2.\n",
            "\n",
            "===============================================\n",
            "\n",
            "[%] Downloading Image #11 from http://img.xcitefun.net/users/2015/07/383558,xcitefun-purple-roses-1.jpg\n",
            "[%] File Downloaded !\n",
            "\n",
            "[%] Downloading Image #12 from http://www.wallpapers13.com/wp-content/uploads/2016/02/Beautiful-Nature-Mountain-Lake-flowers-Free-Hd-Wallpaper.jpg\n",
            "[%] File Downloaded !\n",
            "\n",
            "[%] Downloading Image #13 from https://www.wallpapers13.com/wp-content/uploads/2016/08/Lotus-flower-water-Desktop-Wallpaper-Backgrounds-free-download-1800x2880-1920x1080.jpg\n",
            "[%] File Downloaded !\n",
            "\n",
            "[%] Downloading Image #14 from http://www.prettydesigns.com/wp-content/uploads/2014/09/Romantic-Rose-Tattoo.jpg\n",
            "[%] File Downloaded !\n",
            "\n",
            "[%] Downloading Image #15 from https://hative.com/wp-content/uploads/2014/11/flower-nail-designs/15-pretty-flower-nail-designs.jpg\n",
            "[%] File Downloaded !\n",
            "\n",
            "[%] Downloading Image #16 from https://keyassets.timeincuk.net/inspirewp/live/wp-content/uploads/sites/16/2013/11/yellow-flower.jpg\n",
            "[%] File Downloaded !\n",
            "\n",
            "[%] Downloading Image #17 from https://myamazingthings.com/wp-content/uploads/2016/11/placa-madera-jardin-vertical.jpg\n",
            "[%] File Downloaded !\n",
            "\n",
            "[%] Downloading Image #18 from http://www.wallpapers13.com/wp-content/uploads/2015/12/Crocuses-beautiful-purple-flowers-HD-Wallpapers-for-laptop-Widescreen-free-download.jpg\n",
            "[%] File Downloaded !\n",
            "\n",
            "[%] Downloading Image #19 from http://www.wallpapers13.com/wp-content/uploads/2015/12/Falling-Rain-In-Flower-Flowers-under-the-rain-1920x1200.jpg\n",
            "[%] File Downloaded !\n",
            "\n",
            "[%] Downloading Image #20 from https://overtheroadtruckersdispatch.com/img/a-court-of-thorns-and-roses-book-5.jpg\n",
            "[%] File Downloaded !\n",
            "\n",
            "\n",
            "\n",
            "[!!]Indexing page: 3\n",
            "\n",
            "[%] Indexed 9 Images on Page 3.\n",
            "\n",
            "===============================================\n",
            "\n",
            "[%] Downloading Image #21 from https://www.digsdigs.com/photos/2011/10/700-free-last-minute-halloween-pumpkin-carving-templates-and-ideas-11.jpg\n",
            "[%] File Downloaded !\n",
            "\n",
            "[%] Downloading Image #22 from https://weneedfun.com/wp-content/uploads/2016/08/Wedding-Invitation-Background-Designs-27.jpg\n",
            "[%] File Downloaded !\n",
            "\n",
            "[%] Downloading Image #23 from https://i.pinimg.com/736x/24/f0/ab/24f0abad4e024b787e7cbe858d8579c9--pink-flowers-good-morning.jpg\n",
            "[%] File Downloaded !\n",
            "\n",
            "[%] Downloading Image #24 from https://www.parfumflowercompany.com/wp-content/uploads/2015/10/Constance-008.jpg\n",
            "[%] File Downloaded !\n",
            "\n",
            "[%] Downloading Image #25 from https://www.desktopbackground.org/download/720x1280/2012/12/21/502473_beautiful-sunflower-wallpapers-image_2560x1600_h.jpg\n",
            "[%] File Downloaded !\n",
            "\n",
            "[%] Downloading Image #26 from http://www.rosesandrings.com/wp-content/uploads/2018/03/Whimsical-tree-wedding-backdrop-with-bistro-lights.jpg\n",
            "[%] File Downloaded !\n",
            "\n",
            "[%] Downloading Image #27 from https://www.wallpaperu3.com/wp-content/mywallpapers/beautiful-yellow-roses-wallpaper-540x960.jpg\n",
            "[%] File Downloaded !\n",
            "\n",
            "[%] Downloading Image #28 from http://www.wallpapers13.com/wp-content/uploads/2016/04/Wedding-flowers-bouquet-of-red-roses-on-silk-cloth.jpg\n",
            "[%] File Downloaded !\n",
            "\n",
            "[%] Downloading Image #29 from https://www.parfumflowercompany.com/wp-content/uploads/2015/10/Charity-David-Austin-Wedding-Rose-005.png\n",
            "[%] File Downloaded !\n",
            "\n",
            "\n",
            "\n",
            "[!!]Indexing page: 4\n",
            "\n",
            "[%] Indexed 8 Images on Page 4.\n",
            "\n",
            "===============================================\n",
            "\n",
            "[%] Downloading Image #30 from https://hative.com/wp-content/uploads/2014/11/flower-nail-designs/15-pretty-flower-nail-designs.jpg\n",
            "[%] File Downloaded !\n",
            "\n",
            "\n",
            "\n",
            "[%] Done. Downloaded 30 images.\n",
            "\n",
            "===============================================\n",
            "\n"
          ],
          "name": "stdout"
        }
      ]
    },
    {
      "cell_type": "code",
      "metadata": {
        "colab": {
          "base_uri": "https://localhost:8080/"
        },
        "id": "_11vAfAqZzj2",
        "outputId": "38559c5d-d63d-4e35-8a86-e6ad796327d5"
      },
      "source": [
        "from bing_image_downloader import downloader\n",
        "downloader.download(\"elephants\",limit=30,output_dir='images',adult_filter_off=True)"
      ],
      "execution_count": 6,
      "outputs": [
        {
          "output_type": "stream",
          "text": [
            "\n",
            "\n",
            "[!!]Indexing page: 1\n",
            "\n",
            "[%] Indexed 10 Images on Page 1.\n",
            "\n",
            "===============================================\n",
            "\n",
            "[%] Downloading Image #1 from https://www.gratistodo.com/wp-content/uploads/2016/12/elefantes-wallpapers-3.jpg\n",
            "[%] File Downloaded !\n",
            "\n",
            "[%] Downloading Image #2 from https://www.gratistodo.com/wp-content/uploads/2016/12/elefantes-wallpapers-26.jpg\n",
            "[%] File Downloaded !\n",
            "\n",
            "[%] Downloading Image #3 from https://www.gratistodo.com/wp-content/uploads/2016/12/elefantes-wallpapers-20.jpg\n",
            "[%] File Downloaded !\n",
            "\n",
            "[%] Downloading Image #4 from https://www.gratistodo.com/wp-content/uploads/2016/12/elefantes-wallpapers-6.jpg\n",
            "[%] File Downloaded !\n",
            "\n",
            "[%] Downloading Image #5 from https://www.awesomeinventions.com/wp-content/uploads/2015/05/wolf-elephant-kiss.png\n",
            "[%] File Downloaded !\n",
            "\n",
            "[%] Downloading Image #6 from https://www.zooborns.com/.a/6a010535647bf3970b0153903606e0970b-600wi\n",
            "[%] File Downloaded !\n",
            "\n",
            "[%] Downloading Image #7 from https://www.iizcat.com/uploads/2016/04/n5imn-eb.jpg\n",
            "[Error]Invalid image, not saving https://www.iizcat.com/uploads/2016/04/n5imn-eb.jpg\n",
            "\n",
            "[!] Issue getting: https://www.iizcat.com/uploads/2016/04/n5imn-eb.jpg\n",
            "[!] Error:: No active exception to reraise\n",
            "[%] Downloading Image #7 from https://www.gratistodo.com/wp-content/uploads/2016/12/elefantes-wallpapers-11-800x600.jpg\n",
            "[%] File Downloaded !\n",
            "\n",
            "[%] Downloading Image #8 from https://eia-international.org/wp-content/uploads/2005_08_china_tibet_lhasa_tiger_skin_011.jpg\n",
            "[%] File Downloaded !\n",
            "\n",
            "[%] Downloading Image #9 from https://www.travel4pictures.com/img/s/v-10/p3491204095-4.jpg\n",
            "[%] File Downloaded !\n",
            "\n",
            "\n",
            "\n",
            "[!!]Indexing page: 2\n",
            "\n",
            "[%] Indexed 10 Images on Page 2.\n",
            "\n",
            "===============================================\n",
            "\n",
            "[%] Downloading Image #10 from http://messagenote.com/wp-content/uploads/2011/05/Africa-Elephants.jpg\n",
            "[%] File Downloaded !\n",
            "\n",
            "[%] Downloading Image #11 from http://www.adias-uae.com/images/gompotheriums2.jpg\n",
            "[%] File Downloaded !\n",
            "\n",
            "[%] Downloading Image #12 from http://1.bp.blogspot.com/-uzAGahIJPYY/T4e3fRDDVkI/AAAAAAAACmI/CBGeORdZkuE/s1600/Hdhut.blogspot.com+%25288%2529.jpg\n",
            "[%] File Downloaded !\n",
            "\n",
            "[%] Downloading Image #13 from http://livingadisneylife.com/wp-content/uploads/2016/08/Jungle-Cruise-Elephant.jpg\n",
            "[%] File Downloaded !\n",
            "\n",
            "[%] Downloading Image #14 from http://creationwiki.org/pool/images/thumb/a/a7/Elephants.jpg/250px-Elephants.jpg\n",
            "[%] File Downloaded !\n",
            "\n",
            "[%] Downloading Image #15 from https://www.wallpapers13.com/wp-content/uploads/2017/09/Jungle-and-Borneo-island-Malaysia-cute-family-orangutans-Hd-Wallpapers-1920x1080-1280x960.jpg\n",
            "[%] File Downloaded !\n",
            "\n",
            "[%] Downloading Image #16 from https://www.sunnyskyz.com/uploads/2014/03/ro1xb-elephant.jpg\n",
            "[%] File Downloaded !\n",
            "\n",
            "[%] Downloading Image #17 from https://2.bp.blogspot.com/-hLyZsqr55YQ/UERYPYqQ9AI/AAAAAAAAA-Q/olI4oUdUMo0/s1600/5.+Punk+rock+bird.jpg\n",
            "[%] File Downloaded !\n",
            "\n",
            "[%] Downloading Image #18 from http://messagenote.com/wp-content/uploads/2011/05/Elephant-Kids-e1421564073910.jpg\n",
            "[%] File Downloaded !\n",
            "\n",
            "[%] Downloading Image #19 from http://www.interiorsbycolor.com/wp-content/uploads/2016/10/modern-blue-interior-decor-idea.jpg\n",
            "[%] File Downloaded !\n",
            "\n",
            "\n",
            "\n",
            "[!!]Indexing page: 3\n",
            "\n",
            "[%] Indexed 9 Images on Page 3.\n",
            "\n",
            "===============================================\n",
            "\n",
            "[%] Downloading Image #20 from http://1.bp.blogspot.com/-uzAGahIJPYY/T4e3fRDDVkI/AAAAAAAACmI/CBGeORdZkuE/s1600/Hdhut.blogspot.com+%25288%2529.jpg\n",
            "[%] File Downloaded !\n",
            "\n",
            "[%] Downloading Image #21 from http://www.adias-uae.com/images/gompotheriums2.jpg\n",
            "[%] File Downloaded !\n",
            "\n",
            "[%] Downloading Image #22 from https://www.wallpapers13.com/wp-content/uploads/2017/09/Jungle-and-Borneo-island-Malaysia-cute-family-orangutans-Hd-Wallpapers-1920x1080-1280x960.jpg\n",
            "[%] File Downloaded !\n",
            "\n",
            "[%] Downloading Image #23 from http://creationwiki.org/pool/images/thumb/a/a7/Elephants.jpg/250px-Elephants.jpg\n",
            "[%] File Downloaded !\n",
            "\n",
            "[%] Downloading Image #24 from http://www.interiorsbycolor.com/wp-content/uploads/2016/10/modern-blue-interior-decor-idea.jpg\n",
            "[%] File Downloaded !\n",
            "\n",
            "[%] Downloading Image #25 from https://www.sunnyskyz.com/uploads/2014/03/ro1xb-elephant.jpg\n",
            "[%] File Downloaded !\n",
            "\n",
            "[%] Downloading Image #26 from https://2.bp.blogspot.com/-hLyZsqr55YQ/UERYPYqQ9AI/AAAAAAAAA-Q/olI4oUdUMo0/s1600/5.+Punk+rock+bird.jpg\n",
            "[%] File Downloaded !\n",
            "\n",
            "[%] Downloading Image #27 from http://messagenote.com/wp-content/uploads/2011/05/Elephant-Kids-e1421564073910.jpg\n",
            "[%] File Downloaded !\n",
            "\n",
            "[%] Downloading Image #28 from http://livingadisneylife.com/wp-content/uploads/2016/08/Jungle-Cruise-Elephant.jpg\n",
            "[%] File Downloaded !\n",
            "\n",
            "\n",
            "\n",
            "[!!]Indexing page: 4\n",
            "\n",
            "[%] Indexed 8 Images on Page 4.\n",
            "\n",
            "===============================================\n",
            "\n",
            "[%] Downloading Image #29 from http://creationwiki.org/pool/images/thumb/a/a7/Elephants.jpg/250px-Elephants.jpg\n",
            "[%] File Downloaded !\n",
            "\n",
            "[%] Downloading Image #30 from http://www.interiorsbycolor.com/wp-content/uploads/2016/10/modern-blue-interior-decor-idea.jpg\n",
            "[%] File Downloaded !\n",
            "\n",
            "\n",
            "\n",
            "[%] Done. Downloaded 30 images.\n",
            "\n",
            "===============================================\n",
            "\n"
          ],
          "name": "stdout"
        }
      ]
    },
    {
      "cell_type": "code",
      "metadata": {
        "id": "k2qpf_w7aCZD"
      },
      "source": [
        "import os\n",
        "import matplotlib.pyplot as plt\n",
        "import numpy as np\n",
        "from skimage.io import imread\n",
        "from skimage.transform import resize\n",
        "\n",
        "target = []\n",
        "images = []\n",
        "flat_data = []"
      ],
      "execution_count": 7,
      "outputs": []
    },
    {
      "cell_type": "code",
      "metadata": {
        "id": "h_1rbzFkgE0w"
      },
      "source": [
        "DATADIR = \"/content/images\"\n",
        "CATEGORIES = ['pretty beaches','pretty roses','elephants']"
      ],
      "execution_count": 8,
      "outputs": []
    },
    {
      "cell_type": "code",
      "metadata": {
        "id": "vSpBU9PegWdh"
      },
      "source": [
        "for category in CATEGORIES:\n",
        "  class_num = CATEGORIES.index(category)\n",
        "  path = os.path.join(DATADIR,category)\n",
        "  for img in os.listdir(path):\n",
        "    img_array = imread(os.path.join(path,img))\n",
        "    #print(img_array.shape)\n",
        "    #plt.imshow(img_array)\n",
        "    #plt.show()\n",
        "    \n",
        "    img_resized = resize(img_array,(150,150,3)) \n",
        "    flat_data.append(img_resized.flatten())\n",
        "    images.append(img_resized)\n",
        "    target.append(class_num)\n"
      ],
      "execution_count": 9,
      "outputs": []
    },
    {
      "cell_type": "code",
      "metadata": {
        "id": "bYu_97zgglG6"
      },
      "source": [
        "flat_data = np.array(flat_data)\n",
        "target = np.array(target)\n",
        "images = np.array(images)\n"
      ],
      "execution_count": 10,
      "outputs": []
    },
    {
      "cell_type": "code",
      "metadata": {
        "colab": {
          "base_uri": "https://localhost:8080/"
        },
        "id": "i5_2lkipg3us",
        "outputId": "b1f40e39-ec68-44de-e0ea-a6fd7f55a248"
      },
      "source": [
        "flat_data[0]\n",
        "#len(flat_data[0])"
      ],
      "execution_count": 13,
      "outputs": [
        {
          "output_type": "execute_result",
          "data": {
            "text/plain": [
              "array([0.34633769, 0.34133115, 0.0158671 , ..., 0.16163181, 0.14594553,\n",
              "       0.09935948])"
            ]
          },
          "metadata": {
            "tags": []
          },
          "execution_count": 13
        }
      ]
    },
    {
      "cell_type": "code",
      "metadata": {
        "colab": {
          "base_uri": "https://localhost:8080/"
        },
        "id": "F7tDvK-Qg7aZ",
        "outputId": "c521c303-ae38-4f74-c2a3-15b3fcbc3b1d"
      },
      "source": [
        "target"
      ],
      "execution_count": 14,
      "outputs": [
        {
          "output_type": "execute_result",
          "data": {
            "text/plain": [
              "array([0, 0, 0, 0, 0, 0, 0, 0, 0, 0, 0, 0, 0, 0, 0, 0, 0, 0, 0, 0, 0, 0,\n",
              "       0, 0, 0, 0, 0, 0, 0, 0, 1, 1, 1, 1, 1, 1, 1, 1, 1, 1, 1, 1, 1, 1,\n",
              "       1, 1, 1, 1, 1, 1, 1, 1, 1, 1, 1, 1, 1, 1, 1, 1, 2, 2, 2, 2, 2, 2,\n",
              "       2, 2, 2, 2, 2, 2, 2, 2, 2, 2, 2, 2, 2, 2, 2, 2, 2, 2, 2, 2, 2, 2,\n",
              "       2, 2])"
            ]
          },
          "metadata": {
            "tags": []
          },
          "execution_count": 14
        }
      ]
    },
    {
      "cell_type": "code",
      "metadata": {
        "colab": {
          "base_uri": "https://localhost:8080/",
          "height": 282
        },
        "id": "hSyT_oGahCbV",
        "outputId": "625562ea-9a51-40a8-afb8-aec5ec5c392d"
      },
      "source": [
        "unique,count = np.unique(target,return_counts=True)\n",
        "plt.bar(CATEGORIES,count)"
      ],
      "execution_count": 15,
      "outputs": [
        {
          "output_type": "execute_result",
          "data": {
            "text/plain": [
              "<BarContainer object of 3 artists>"
            ]
          },
          "metadata": {
            "tags": []
          },
          "execution_count": 15
        },
        {
          "output_type": "display_data",
          "data": {
            "image/png": "[encoded data removed]",
            "text/plain": [
              "<Figure size 432x288 with 1 Axes>"
            ]
          },
          "metadata": {
            "tags": [],
            "needs_background": "light"
          }
        }
      ]
    },
    {
      "cell_type": "code",
      "metadata": {
        "id": "Z0GGApD6hGBD"
      },
      "source": [
        "from sklearn.model_selection import train_test_split\n",
        "x_train,x_test,y_train,y_test = train_test_split(flat_data,target,test_size=0.3,random_state=109)"
      ],
      "execution_count": 16,
      "outputs": []
    },
    {
      "cell_type": "code",
      "metadata": {
        "colab": {
          "base_uri": "https://localhost:8080/"
        },
        "id": "oKHxw3LPhKiQ",
        "outputId": "8278ce93-71c9-417b-c62b-cf0a559b5a69"
      },
      "source": [
        "from sklearn.model_selection import GridSearchCV\n",
        "from sklearn import svm\n",
        "\n",
        "param_grid = {'C':[0.1,1,10,100],\n",
        "              'kernel':['linear','rbf']}\n",
        "\n",
        "svc = svm.SVC(probability=True)\n",
        "clf = GridSearchCV(svc,param_grid)\n",
        "clf.fit(x_train,y_train)"
      ],
      "execution_count": 27,
      "outputs": [
        {
          "output_type": "execute_result",
          "data": {
            "text/plain": [
              "GridSearchCV(cv=None, error_score=nan,\n",
              "             estimator=SVC(C=1.0, break_ties=False, cache_size=200,\n",
              "                           class_weight=None, coef0=0.0,\n",
              "                           decision_function_shape='ovr', degree=3,\n",
              "                           gamma='scale', kernel='rbf', max_iter=-1,\n",
              "                           probability=True, random_state=None, shrinking=True,\n",
              "                           tol=0.001, verbose=False),\n",
              "             iid='deprecated', n_jobs=None,\n",
              "             param_grid={'C': [0.1, 1, 10, 100], 'kernel': ['linear', 'rbf']},\n",
              "             pre_dispatch='2*n_jobs', refit=True, return_train_score=False,\n",
              "             scoring=None, verbose=0)"
            ]
          },
          "metadata": {
            "tags": []
          },
          "execution_count": 27
        }
      ]
    },
    {
      "cell_type": "code",
      "metadata": {
        "colab": {
          "base_uri": "https://localhost:8080/"
        },
        "id": "F3rcPqK_hR90",
        "outputId": "ad8ba9fd-020c-4119-8a99-fddfbf7ed795"
      },
      "source": [
        "y_pred = clf.predict(x_test)\n",
        "y_pred"
      ],
      "execution_count": 28,
      "outputs": [
        {
          "output_type": "execute_result",
          "data": {
            "text/plain": [
              "array([1, 0, 1, 2, 2, 2, 0, 1, 1, 2, 1, 0, 1, 2, 0, 1, 2, 1, 0, 1, 2, 2,\n",
              "       2, 0, 0, 2, 1])"
            ]
          },
          "metadata": {
            "tags": []
          },
          "execution_count": 28
        }
      ]
    },
    {
      "cell_type": "code",
      "metadata": {
        "colab": {
          "base_uri": "https://localhost:8080/"
        },
        "id": "4n4CjIP7h31K",
        "outputId": "62b3002e-699b-4c3d-ce3e-ab69f4b97d89"
      },
      "source": [
        "y_test"
      ],
      "execution_count": 29,
      "outputs": [
        {
          "output_type": "execute_result",
          "data": {
            "text/plain": [
              "array([1, 0, 1, 2, 2, 1, 0, 1, 1, 0, 1, 0, 1, 2, 2, 1, 2, 1, 0, 1, 2, 2,\n",
              "       2, 0, 0, 0, 1])"
            ]
          },
          "metadata": {
            "tags": []
          },
          "execution_count": 29
        }
      ]
    },
    {
      "cell_type": "code",
      "metadata": {
        "colab": {
          "base_uri": "https://localhost:8080/"
        },
        "id": "NQN4PTq8h5UF",
        "outputId": "c0fc93b8-3cdf-4cec-b1da-394f22158785"
      },
      "source": [
        "from sklearn.metrics import accuracy_score,confusion_matrix\n",
        "accuracy_score(y_pred,y_test)"
      ],
      "execution_count": 30,
      "outputs": [
        {
          "output_type": "execute_result",
          "data": {
            "text/plain": [
              "0.8518518518518519"
            ]
          },
          "metadata": {
            "tags": []
          },
          "execution_count": 30
        }
      ]
    },
    {
      "cell_type": "code",
      "metadata": {
        "colab": {
          "base_uri": "https://localhost:8080/"
        },
        "id": "k8G503ROh_5h",
        "outputId": "5c63fc38-2313-4fb5-f6a6-bfb1950334f6"
      },
      "source": [
        "confusion_matrix(y_pred,y_test)"
      ],
      "execution_count": 21,
      "outputs": [
        {
          "output_type": "execute_result",
          "data": {
            "text/plain": [
              "array([[6, 0, 1],\n",
              "       [0, 9, 0],\n",
              "       [2, 2, 7]])"
            ]
          },
          "metadata": {
            "tags": []
          },
          "execution_count": 21
        }
      ]
    },
    {
      "cell_type": "code",
      "metadata": {
        "id": "hJkRSE8niDu2"
      },
      "source": [
        "# saving the model \n",
        "import pickle\n",
        "pickle.dump(clf,open('img_model.p','wb'))\n",
        "model = pickle.load(open('img_model.p','rb'))"
      ],
      "execution_count": 23,
      "outputs": []
    },
    {
      "cell_type": "code",
      "metadata": {
        "colab": {
          "base_uri": "https://localhost:8080/",
          "height": 320
        },
        "id": "BSh23_1cjNVe",
        "outputId": "cc216c5f-4824-42df-89db-4cb2ee5661e8"
      },
      "source": [
        "#testing with new image\n",
        "flat_data = []\n",
        "url = input('Enter your URL')\n",
        "img = imread(url)\n",
        "img_resized = resize(img,(150,150,3))\n",
        "flat_data.append(img_resized.flatten())\n",
        "flat_data = np.array(flat_data)\n",
        "print(img.shape)\n",
        "plt.imshow(img_resized)\n",
        "y_out = model.predict(flat_data)\n",
        "y_out = CATEGORIES[y_out[0]]\n",
        "print(f' PREDICTED OUTPUT: {y_out}')"
      ],
      "execution_count": 31,
      "outputs": [
        {
          "output_type": "stream",
          "text": [
            "Enter your URLhttps://ocdn.eu/pulscms-transforms/1/B0HktkqTURBXy81YWIzYzZhOTQ2ODdlODlhY2ZkMjUxNmFlYTRkMjFiNS5qcGVnkpUDABTNAoTNAWqTBc0EsM0Cdg\n",
            "(630, 1200, 3)\n",
            " PREDICTED OUTPUT: pretty beaches\n"
          ],
          "name": "stdout"
        },
        {
          "output_type": "display_data",
          "data": {
            "image/png": "[encoded data removed]",
            "text/plain": [
              "<Figure size 432x288 with 1 Axes>"
            ]
          },
          "metadata": {
            "tags": [],
            "needs_background": "light"
          }
        }
      ]
    },
    {
      "cell_type": "code",
      "metadata": {
        "id": "uoU8MRThjcX5"
      },
      "source": [
        ""
      ],
      "execution_count": 31,
      "outputs": []
    }
  ]
}